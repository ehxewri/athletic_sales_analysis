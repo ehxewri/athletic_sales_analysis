{
 "cells": [
  {
   "cell_type": "code",
   "execution_count": 1,
   "metadata": {},
   "outputs": [],
   "source": [
    "# Import Libraries and Dependencies\n",
    "import pandas as pd"
   ]
  },
  {
   "cell_type": "markdown",
   "metadata": {},
   "source": [
    "### 1. Combine and Clean the Data\n",
    "#### Import CSVs"
   ]
  },
  {
   "cell_type": "code",
   "execution_count": 2,
   "metadata": {},
   "outputs": [],
   "source": [
    "# Read the CSV files into DataFrames.\n",
    "as2020_df = pd.read_csv('Resources/athletic_sales_2020.csv')\n",
    "as2021_df = pd.read_csv('Resources/athletic_sales_2021.csv')"
   ]
  },
  {
   "cell_type": "code",
   "execution_count": 3,
   "metadata": {},
   "outputs": [
    {
     "data": {
      "text/html": [
       "<div>\n",
       "<style scoped>\n",
       "    .dataframe tbody tr th:only-of-type {\n",
       "        vertical-align: middle;\n",
       "    }\n",
       "\n",
       "    .dataframe tbody tr th {\n",
       "        vertical-align: top;\n",
       "    }\n",
       "\n",
       "    .dataframe thead th {\n",
       "        text-align: right;\n",
       "    }\n",
       "</style>\n",
       "<table border=\"1\" class=\"dataframe\">\n",
       "  <thead>\n",
       "    <tr style=\"text-align: right;\">\n",
       "      <th></th>\n",
       "      <th>retailer</th>\n",
       "      <th>retailer_id</th>\n",
       "      <th>invoice_date</th>\n",
       "      <th>region</th>\n",
       "      <th>state</th>\n",
       "      <th>city</th>\n",
       "      <th>product</th>\n",
       "      <th>price_per_unit</th>\n",
       "      <th>units_sold</th>\n",
       "      <th>total_sales</th>\n",
       "      <th>operating_profit</th>\n",
       "      <th>sales_method</th>\n",
       "    </tr>\n",
       "  </thead>\n",
       "  <tbody>\n",
       "    <tr>\n",
       "      <th>0</th>\n",
       "      <td>Foot Locker</td>\n",
       "      <td>1185732</td>\n",
       "      <td>1/1/20</td>\n",
       "      <td>Northeast</td>\n",
       "      <td>New York</td>\n",
       "      <td>New York</td>\n",
       "      <td>Men's Street Footwear</td>\n",
       "      <td>50</td>\n",
       "      <td>1200</td>\n",
       "      <td>600000</td>\n",
       "      <td>300000.00</td>\n",
       "      <td>In-store</td>\n",
       "    </tr>\n",
       "    <tr>\n",
       "      <th>1</th>\n",
       "      <td>Foot Locker</td>\n",
       "      <td>1185732</td>\n",
       "      <td>1/1/20</td>\n",
       "      <td>Northeast</td>\n",
       "      <td>Pennsylvania</td>\n",
       "      <td>Philadelphia</td>\n",
       "      <td>Women's Apparel</td>\n",
       "      <td>68</td>\n",
       "      <td>83</td>\n",
       "      <td>5644</td>\n",
       "      <td>2426.92</td>\n",
       "      <td>Online</td>\n",
       "    </tr>\n",
       "    <tr>\n",
       "      <th>2</th>\n",
       "      <td>Foot Locker</td>\n",
       "      <td>1185732</td>\n",
       "      <td>1/1/20</td>\n",
       "      <td>Northeast</td>\n",
       "      <td>Pennsylvania</td>\n",
       "      <td>Philadelphia</td>\n",
       "      <td>Women's Apparel</td>\n",
       "      <td>75</td>\n",
       "      <td>275</td>\n",
       "      <td>206250</td>\n",
       "      <td>61875.00</td>\n",
       "      <td>Outlet</td>\n",
       "    </tr>\n",
       "  </tbody>\n",
       "</table>\n",
       "</div>"
      ],
      "text/plain": [
       "      retailer  retailer_id invoice_date     region         state  \\\n",
       "0  Foot Locker      1185732       1/1/20  Northeast      New York   \n",
       "1  Foot Locker      1185732       1/1/20  Northeast  Pennsylvania   \n",
       "2  Foot Locker      1185732       1/1/20  Northeast  Pennsylvania   \n",
       "\n",
       "           city                product  price_per_unit  units_sold  \\\n",
       "0      New York  Men's Street Footwear              50        1200   \n",
       "1  Philadelphia        Women's Apparel              68          83   \n",
       "2  Philadelphia        Women's Apparel              75         275   \n",
       "\n",
       "   total_sales  operating_profit sales_method  \n",
       "0       600000         300000.00     In-store  \n",
       "1         5644           2426.92       Online  \n",
       "2       206250          61875.00       Outlet  "
      ]
     },
     "execution_count": 3,
     "metadata": {},
     "output_type": "execute_result"
    }
   ],
   "source": [
    "# Display the 2020 sales DataFrame\n",
    "columns_2020 = as2020_df.columns.values.tolist()\n",
    "as2020_df.head(3)"
   ]
  },
  {
   "cell_type": "code",
   "execution_count": 4,
   "metadata": {},
   "outputs": [
    {
     "data": {
      "text/html": [
       "<div>\n",
       "<style scoped>\n",
       "    .dataframe tbody tr th:only-of-type {\n",
       "        vertical-align: middle;\n",
       "    }\n",
       "\n",
       "    .dataframe tbody tr th {\n",
       "        vertical-align: top;\n",
       "    }\n",
       "\n",
       "    .dataframe thead th {\n",
       "        text-align: right;\n",
       "    }\n",
       "</style>\n",
       "<table border=\"1\" class=\"dataframe\">\n",
       "  <thead>\n",
       "    <tr style=\"text-align: right;\">\n",
       "      <th></th>\n",
       "      <th>retailer</th>\n",
       "      <th>retailer_id</th>\n",
       "      <th>invoice_date</th>\n",
       "      <th>region</th>\n",
       "      <th>state</th>\n",
       "      <th>city</th>\n",
       "      <th>product</th>\n",
       "      <th>price_per_unit</th>\n",
       "      <th>units_sold</th>\n",
       "      <th>total_sales</th>\n",
       "      <th>operating_profit</th>\n",
       "      <th>sales_method</th>\n",
       "    </tr>\n",
       "  </thead>\n",
       "  <tbody>\n",
       "    <tr>\n",
       "      <th>0</th>\n",
       "      <td>West Gear</td>\n",
       "      <td>1128299</td>\n",
       "      <td>1/1/21</td>\n",
       "      <td>West</td>\n",
       "      <td>California</td>\n",
       "      <td>San Francisco</td>\n",
       "      <td>Men's Athletic Footwear</td>\n",
       "      <td>65</td>\n",
       "      <td>750</td>\n",
       "      <td>487500</td>\n",
       "      <td>121875.00</td>\n",
       "      <td>Outlet</td>\n",
       "    </tr>\n",
       "    <tr>\n",
       "      <th>1</th>\n",
       "      <td>West Gear</td>\n",
       "      <td>1128299</td>\n",
       "      <td>1/1/21</td>\n",
       "      <td>West</td>\n",
       "      <td>California</td>\n",
       "      <td>San Francisco</td>\n",
       "      <td>Men's Athletic Footwear</td>\n",
       "      <td>51</td>\n",
       "      <td>233</td>\n",
       "      <td>11883</td>\n",
       "      <td>3208.41</td>\n",
       "      <td>Outlet</td>\n",
       "    </tr>\n",
       "    <tr>\n",
       "      <th>2</th>\n",
       "      <td>Kohl's</td>\n",
       "      <td>1189833</td>\n",
       "      <td>1/1/21</td>\n",
       "      <td>Midwest</td>\n",
       "      <td>Montana</td>\n",
       "      <td>Billings</td>\n",
       "      <td>Men's Apparel</td>\n",
       "      <td>50</td>\n",
       "      <td>275</td>\n",
       "      <td>137500</td>\n",
       "      <td>82500.00</td>\n",
       "      <td>Outlet</td>\n",
       "    </tr>\n",
       "  </tbody>\n",
       "</table>\n",
       "</div>"
      ],
      "text/plain": [
       "    retailer  retailer_id invoice_date   region       state           city  \\\n",
       "0  West Gear      1128299       1/1/21     West  California  San Francisco   \n",
       "1  West Gear      1128299       1/1/21     West  California  San Francisco   \n",
       "2     Kohl's      1189833       1/1/21  Midwest     Montana       Billings   \n",
       "\n",
       "                   product  price_per_unit  units_sold  total_sales  \\\n",
       "0  Men's Athletic Footwear              65         750       487500   \n",
       "1  Men's Athletic Footwear              51         233        11883   \n",
       "2            Men's Apparel              50         275       137500   \n",
       "\n",
       "   operating_profit sales_method  \n",
       "0         121875.00       Outlet  \n",
       "1           3208.41       Outlet  \n",
       "2          82500.00       Outlet  "
      ]
     },
     "execution_count": 4,
     "metadata": {},
     "output_type": "execute_result"
    }
   ],
   "source": [
    "# Display the 2021 sales DataFrame\n",
    "columns_2021 = as2021_df.columns.values.tolist()\n",
    "as2021_df.head(3)"
   ]
  },
  {
   "cell_type": "markdown",
   "metadata": {},
   "source": [
    "#### Check the data types of each DataFrame"
   ]
  },
  {
   "cell_type": "code",
   "execution_count": 5,
   "metadata": {},
   "outputs": [
    {
     "data": {
      "text/plain": [
       "[dtype('O'),\n",
       " dtype('int64'),\n",
       " dtype('O'),\n",
       " dtype('O'),\n",
       " dtype('O'),\n",
       " dtype('O'),\n",
       " dtype('O'),\n",
       " dtype('int64'),\n",
       " dtype('int64'),\n",
       " dtype('int64'),\n",
       " dtype('float64'),\n",
       " dtype('O')]"
      ]
     },
     "execution_count": 5,
     "metadata": {},
     "output_type": "execute_result"
    }
   ],
   "source": [
    "# Check the 2020 sales data types.\n",
    "dtypes_2020 = as2020_df.dtypes.values.tolist()\n",
    "dtypes_2020"
   ]
  },
  {
   "cell_type": "code",
   "execution_count": 6,
   "metadata": {},
   "outputs": [
    {
     "data": {
      "text/plain": [
       "[dtype('O'),\n",
       " dtype('int64'),\n",
       " dtype('O'),\n",
       " dtype('O'),\n",
       " dtype('O'),\n",
       " dtype('O'),\n",
       " dtype('O'),\n",
       " dtype('int64'),\n",
       " dtype('int64'),\n",
       " dtype('int64'),\n",
       " dtype('float64'),\n",
       " dtype('O')]"
      ]
     },
     "execution_count": 6,
     "metadata": {},
     "output_type": "execute_result"
    }
   ],
   "source": [
    "# Check the 2021 sales data types.\n",
    "dtypes_2021 = as2020_df.dtypes.values.tolist()\n",
    "dtypes_2021"
   ]
  },
  {
   "cell_type": "markdown",
   "metadata": {},
   "source": [
    "#### This is added. I never trust myself to manually check things like this. This reflects one way to do a basic programatic check"
   ]
  },
  {
   "cell_type": "code",
   "execution_count": 7,
   "metadata": {},
   "outputs": [
    {
     "name": "stdout",
     "output_type": "stream",
     "text": [
      "The as2020_df and as2021_df data frames have matching columns and data types.\n"
     ]
    }
   ],
   "source": [
    "# my old eyes and memory aren't really good at comparing columns and types so I wrote this to do it for me\n",
    "if columns_2020 != columns_2021:\n",
    "    raise ValueError(\"The two data frames are not compatible. Please verify the columns.\")\n",
    "elif dtypes_2020 != dtypes_2021:\n",
    "    raise ValueError(\"The two data frames are not compatible. Please verify the data types.\")\n",
    "else:\n",
    "    print('The as2020_df and as2021_df data frames have matching columns and data types.')"
   ]
  },
  {
   "cell_type": "markdown",
   "metadata": {},
   "source": [
    "#### Combine the sales data by rows."
   ]
  },
  {
   "cell_type": "code",
   "execution_count": 8,
   "metadata": {},
   "outputs": [
    {
     "name": "stdout",
     "output_type": "stream",
     "text": [
      "      retailer invoice_date\n",
      "0  Foot Locker       1/1/20\n",
      "1  Foot Locker       1/1/20\n",
      "2  Foot Locker       1/1/20\n",
      "9640       Amazon  12/31/21\n",
      "9641       Amazon  12/31/21\n",
      "9642  Foot Locker  12/31/21\n"
     ]
    }
   ],
   "source": [
    "# Combine the 2020 and 2021 sales DataFrames on the rows and reset the index.\n",
    "as_years_df = pd.concat([as2020_df,as2021_df],axis=0, join='inner').reset_index(drop=True)\n",
    "print (f\"{as_years_df[['retailer','invoice_date']].head(3)}\\n{as_years_df[['retailer','invoice_date']].tail(3).to_string(header=False)}\")"
   ]
  },
  {
   "cell_type": "code",
   "execution_count": 9,
   "metadata": {},
   "outputs": [
    {
     "name": "stdout",
     "output_type": "stream",
     "text": [
      "The dataframe has no null entries. Please continue\n"
     ]
    }
   ],
   "source": [
    "''' Check if any values are null.\n",
    "print (f'any is null {as_years_df.isnull().any().any()}')\n",
    "print (f'any is na {as_years_df.isna().any().any()}')\n",
    "print (f'any is not na {as_years_df.notna().any().any()}')\n",
    "'''\n",
    "if as_years_df.notna().any().any():\n",
    "    print (\"The dataframe has no null entries. Please continue\")\n",
    "else:\n",
    "    print ('One or more entries is null. Please review and clean data before continuing')\n",
    "\n"
   ]
  },
  {
   "cell_type": "code",
   "execution_count": 10,
   "metadata": {},
   "outputs": [
    {
     "name": "stdout",
     "output_type": "stream",
     "text": [
      "The data types of the new dataframe are the same as the as2020_df and as2021_af\n"
     ]
    }
   ],
   "source": [
    "# Check the data type of each column\n",
    "# here i want to use the same check as i did earlier. \n",
    "dtype_as_years =as_years_df.dtypes.values.tolist()\n",
    "if dtype_as_years != dtypes_2021:\n",
    "    raise ValueError(\"Something is wrong with the data types in the new table\")\n",
    "else:\n",
    "    print('The data types of the new dataframe are the same as the as2020_df and as2021_af')"
   ]
  },
  {
   "cell_type": "code",
   "execution_count": 11,
   "metadata": {},
   "outputs": [
    {
     "name": "stdout",
     "output_type": "stream",
     "text": [
      "   retailer invoice_date\n",
      "Foot Locker   2020-01-01\n",
      "Foot Locker   2020-01-01\n",
      "Foot Locker   2020-01-01\n"
     ]
    }
   ],
   "source": [
    "# Convert the \"invoice_date\" to a datetime datatype \n",
    "as_years_df['invoice_date'] = pd.to_datetime(as_years_df['invoice_date'],  format='mixed')\n",
    "print (as_years_df[['retailer','invoice_date']].head(3).to_string(index=False))"
   ]
  },
  {
   "cell_type": "code",
   "execution_count": 12,
   "metadata": {},
   "outputs": [
    {
     "name": "stdout",
     "output_type": "stream",
     "text": [
      "The 'invoice_date' data type datetime64[ns] is datetime type\n"
     ]
    }
   ],
   "source": [
    "# Confirm that the \"invoice_date\" data type has been changed.\n",
    "# I wanted to verify that the dtype was a datetime type. \n",
    "if as_years_df['invoice_date'].dtypes != \"datetime64[ns]\":\n",
    "    raise ValueError(\"Something is wrong with the data type in 'invoice_date\")\n",
    "else:\n",
    "    print(f\"The 'invoice_date' data type {as_years_df['invoice_date'].dtypes} is datetime type\")"
   ]
  },
  {
   "cell_type": "markdown",
   "metadata": {},
   "source": [
    "### 2. Determine which Region Sold the Most Products"
   ]
  },
  {
   "cell_type": "markdown",
   "metadata": {},
   "source": [
    "#### Using `groupby`"
   ]
  },
  {
   "cell_type": "code",
   "execution_count": 13,
   "metadata": {},
   "outputs": [
    {
     "name": "stdout",
     "output_type": "stream",
     "text": [
      "Top 5 # of products sold by region, state and city \n",
      "   region      state          city  Total_Products_Sold\n",
      "Northeast   New York      New York               111954\n",
      "    South      Texas       Houston                90322\n",
      "     West California San Francisco                85478\n",
      "     West California   Los Angeles                76384\n",
      "Southeast    Florida         Miami                73135\n"
     ]
    }
   ],
   "source": [
    "# Show the number products sold for region, state, and city.\n",
    "# Rename the sum to \"Total_Products_Sold\".\n",
    "groupby_rsc_df = as_years_df.groupby(['region','state','city']).sum('units_sold').reset_index().rename(columns={'units_sold':'Total_Products_Sold'})\n",
    "# print (f\"# of products sold by region, state and city\\n{groupby_rsc_df[['region','state','city','Total_Products_Sold']].head(5).to_string(index=False)}\\n\")\n",
    "\n",
    "# Show the top 5 results.\n",
    "sort_groupby_rsc_df = groupby_rsc_df.sort_values(by=['Total_Products_Sold'], ascending=False, ignore_index=(True))\n",
    "print(f\"Top 5 # of products sold by region, state and city \\n{sort_groupby_rsc_df[['region','state','city','Total_Products_Sold']].head(5).to_string(index=False)}\")"
   ]
  },
  {
   "cell_type": "markdown",
   "metadata": {},
   "source": [
    "#### Using `pivot_table`"
   ]
  },
  {
   "cell_type": "code",
   "execution_count": 14,
   "metadata": {},
   "outputs": [
    {
     "name": "stdout",
     "output_type": "stream",
     "text": [
      "Top 5 # of products sold by region, state and city \n",
      "   region      state          city  Total_Products_Sold\n",
      "Northeast   New York      New York               111954\n",
      "    South      Texas       Houston                90322\n",
      "     West California San Francisco                85478\n",
      "     West California   Los Angeles                76384\n",
      "Southeast    Florida         Miami                73135\n"
     ]
    }
   ],
   "source": [
    "# Show the number products sold for region, state, and city.\n",
    "# Rename the \"units_sold\" column to \"Total_Products_Sold\"\n",
    "pt_rsc_df = as_years_df.pivot_table(index=['region','state','city'],\n",
    "                                    values='units_sold',\n",
    "                                    aggfunc='sum').reset_index().rename(columns={'units_sold':'Total_Products_Sold'})                                    \n",
    "# print (f\"# of products sold by region, state and city\\n{pt_rsc_df.head(5).to_string(index=False)}\\n\")\n",
    "# Show the top 5 results.\n",
    "print(f\"Top 5 # of products sold by region, state and city \\n{pt_rsc_df.sort_values(by=['Total_Products_Sold'], ascending=False, ignore_index=(True)).head(5).to_string(index=False)}\")"
   ]
  },
  {
   "cell_type": "markdown",
   "metadata": {},
   "source": [
    "### 3. Determine which Region had the Most Sales"
   ]
  },
  {
   "cell_type": "markdown",
   "metadata": {},
   "source": [
    "#### Using `groupby`"
   ]
  },
  {
   "cell_type": "code",
   "execution_count": 15,
   "metadata": {},
   "outputs": [
    {
     "name": "stdout",
     "output_type": "stream",
     "text": [
      "top 5 sales  by region, state and city\n",
      "   region          state          city  Total Sales\n",
      "Northeast       New York      New York     39801235\n",
      "     West     California San Francisco     33973228\n",
      "Southeast        Florida         Miami     31600863\n",
      "Southeast South Carolina    Charleston     29285637\n",
      "Southeast        Florida       Orlando     27682851\n"
     ]
    }
   ],
   "source": [
    "# Show the total sales for the products sold for each region, state, and city.\n",
    "# Rename the \"total_sales\" column to \"Total Sales\"\n",
    "groupby_rsc_df = as_years_df.groupby(['region','state','city']).sum('total_sales').reset_index().rename(columns={'total_sales':'Total Sales'})\n",
    "# print (f\"sales  by region, state and city\\n{groupby_rsc_df[['region','state','city','Total Sales']].head(5).to_string(index=False)}\\n\")\n",
    "# Show the top 5 results.\n",
    "sort_groupby_rsc_df = groupby_rsc_df.sort_values(by=['Total Sales'], ascending=False, ignore_index=(True))\n",
    "print (f\"top 5 sales  by region, state and city\\n{sort_groupby_rsc_df[['region','state','city','Total Sales']].head(5).to_string(index=False)}\")\n"
   ]
  },
  {
   "cell_type": "markdown",
   "metadata": {},
   "source": [
    "#### Using `pivot_table`"
   ]
  },
  {
   "cell_type": "code",
   "execution_count": 16,
   "metadata": {},
   "outputs": [
    {
     "name": "stdout",
     "output_type": "stream",
     "text": [
      "top 5 sales by region, state and city\n",
      "   region          state          city  Total Sales\n",
      "Northeast       New York      New York     39801235\n",
      "     West     California San Francisco     33973228\n",
      "Southeast        Florida         Miami     31600863\n",
      "Southeast South Carolina    Charleston     29285637\n",
      "Southeast        Florida       Orlando     27682851\n",
      "\n"
     ]
    }
   ],
   "source": [
    "# Show the total sales for the products sold for each region, state, and city.\n",
    "# Optional: Rename the \"total_sales\" column to \"Total Sales\"\n",
    "pt_rsc_df = as_years_df.pivot_table(index=['region','state','city'],\n",
    "                                    values='total_sales',\n",
    "                                    aggfunc='sum').reset_index().rename(columns={'total_sales':'Total Sales'})\\\n",
    "                                    .sort_values(by=['Total Sales'], ascending=False, ignore_index=(True))\n",
    "\n",
    "# Show the top 5 results.\n",
    "print (f\"top 5 sales by region, state and city\\n{pt_rsc_df[['region','state','city','Total Sales']].head(5).to_string(index=False)}\\n\")"
   ]
  },
  {
   "cell_type": "markdown",
   "metadata": {
    "jp-MarkdownHeadingCollapsed": true,
    "tags": []
   },
   "source": [
    "### 4. Determine which Retailer had the Most Sales"
   ]
  },
  {
   "cell_type": "markdown",
   "metadata": {},
   "source": [
    "#### Using `groupby`"
   ]
  },
  {
   "cell_type": "code",
   "execution_count": 17,
   "metadata": {},
   "outputs": [
    {
     "name": "stdout",
     "output_type": "stream",
     "text": [
      "top 5 sales by retailer, region, state and city\n",
      "   retailer    region          state          city  Total Sales\n",
      "  West Gear      West     California San Francisco     32794405\n",
      "     Kohl's      West     California   Los Angeles     25127160\n",
      "Foot Locker Northeast       New York      New York     25008568\n",
      "  West Gear      West     Washington       Seattle     24862675\n",
      "Foot Locker Southeast South Carolina    Charleston     24822280\n"
     ]
    }
   ],
   "source": [
    "# Show the total sales for the products sold for each retailer, region, state, and city.\n",
    "# Rename the \"total_sales\" column to \"Total Sales\"\n",
    "\n",
    "groupby_rsc_df = as_years_df.groupby(['retailer','region','state','city']).sum('total_sales').reset_index().rename(columns={'total_sales':'Total Sales'})\n",
    "# print (f\"sales by retailer, region, state and city\\n{groupby_rsc_df[['retailer','region','state','city','Total Sales']].head(5).to_string(index=False)}\\n\")\n",
    "\n",
    "# Show the top 5 results.\n",
    "sort_groupby_rsc_df = groupby_rsc_df.sort_values(by=['Total Sales'], ascending=False, ignore_index=(True))\n",
    "print (f\"top 5 sales by retailer, region, state and city\\n{sort_groupby_rsc_df[['retailer','region','state','city','Total Sales']].head(5).to_string(index=False)}\")\n"
   ]
  },
  {
   "cell_type": "markdown",
   "metadata": {},
   "source": [
    "#### Using `pivot_table`"
   ]
  },
  {
   "cell_type": "code",
   "execution_count": 18,
   "metadata": {},
   "outputs": [
    {
     "name": "stdout",
     "output_type": "stream",
     "text": [
      "top 5 sales by retailer, region, state and city\n",
      "   retailer    region          state          city  Total Sales\n",
      "  West Gear      West     California San Francisco     32794405\n",
      "     Kohl's      West     California   Los Angeles     25127160\n",
      "Foot Locker Northeast       New York      New York     25008568\n",
      "  West Gear      West     Washington       Seattle     24862675\n",
      "Foot Locker Southeast South Carolina    Charleston     24822280\n"
     ]
    }
   ],
   "source": [
    "# Show the total sales for the products sold for each retailer, region, state, and city.\n",
    "# Optional: Rename the \"total_sales\" column to \"Total Sales\"\n",
    "pt_rsc_df = as_years_df.pivot_table(index=['retailer','region','state','city'],\n",
    "                                    values='total_sales',\n",
    "                                    aggfunc='sum').reset_index().rename(columns={'total_sales':'Total Sales'})\\\n",
    "                                    .sort_values(by=['Total Sales'], ascending=False, ignore_index=(True))\n",
    "\n",
    "# Show the top 5 results.\n",
    "print (f\"top 5 sales by retailer, region, state and city\\n{pt_rsc_df[['retailer','region','state','city','Total Sales']].head(5).to_string(index=False)}\")\n"
   ]
  },
  {
   "cell_type": "markdown",
   "metadata": {},
   "source": [
    "### 5. Determine which Retailer Sold the Most Women's Athletic Footwear"
   ]
  },
  {
   "cell_type": "code",
   "execution_count": 19,
   "metadata": {},
   "outputs": [
    {
     "name": "stdout",
     "output_type": "stream",
     "text": [
      "\n",
      "   retailer    region        state         city                   product\n",
      "     Amazon Northeast        Maine     Portland Women's Athletic Footwear\n",
      "     Amazon Northeast        Maine     Portland Women's Athletic Footwear\n",
      "Foot Locker Northeast Pennsylvania Philadelphia Women's Athletic Footwear\n"
     ]
    }
   ],
   "source": [
    "# Filter the sales data to get the women's athletic footwear sales data.\n",
    "# init for a product selection\n",
    "idx=4\n",
    "products=as_years_df[\"product\"].unique()\n",
    "''' uncomment this section to enable product selection\n",
    "# get column value for womens footwear\n",
    "# print each unique product with the product Index\n",
    "for index, value in enumerate(products):\n",
    "    print(f\"{index} : {value}\")\n",
    "idx=int(input('enter the number for the product : '))\n",
    "'''\n",
    "# filter product by womens footwear\n",
    "# filtered_df = df[df['column_name'].isin(['value1', 'value2', 'value3'])]\n",
    "as_wfw_df = as_years_df[as_years_df[\"product\"].isin([products[idx]])]\n",
    "print (f\"\\n{as_wfw_df[['retailer','region','state','city','product']].tail(3).to_string(index=False)}\")"
   ]
  },
  {
   "cell_type": "markdown",
   "metadata": {},
   "source": [
    "### Using `groupby`"
   ]
  },
  {
   "cell_type": "code",
   "execution_count": 20,
   "metadata": {},
   "outputs": [
    {
     "name": "stdout",
     "output_type": "stream",
     "text": [
      "Sorted by Women's Athletic Footwear Units Sold\n",
      "     retailer    region          state          city  Women's Athletic Footwear Units Sold\n",
      "    West Gear      West     California San Francisco                                 12107\n",
      "  Foot Locker Northeast       New York      New York                                 10996\n",
      "       Kohl's      West     California   Los Angeles                                 10826\n",
      "  Foot Locker Southeast South Carolina    Charleston                                  8814\n",
      "Sports Direct     South          Texas        Dallas                                  8790\n"
     ]
    }
   ],
   "source": [
    "# Show the total number of women's athletic footwear sold for each retailer, region, state, and city.\n",
    "# Rename the \"units_sold\" column to \"{Product[idx]}_Units_Sold\"\n",
    "product_unit_sold = str(products[idx])+' Units Sold'\n",
    "groupby_rsc_df = as_wfw_df.groupby(['retailer','region','state','city']).sum('units_sold').reset_index().rename(columns={'units_sold':product_unit_sold})\n",
    "# print (f\"{products[idx]}\\n{groupby_rsc_df[['retailer','region','state','city',product_unit_sold]].head(5).to_string(index=False)}\\n\")\n",
    "\n",
    "# Show the top 5 results.\n",
    "sort_groupby_rsc_df = groupby_rsc_df.sort_values(by=[product_unit_sold], ascending=False, ignore_index=(True))\n",
    "print(f\"Sorted by {product_unit_sold}\\n{sort_groupby_rsc_df[['retailer','region','state','city',product_unit_sold]].head(5).to_string(index=False)}\")"
   ]
  },
  {
   "cell_type": "markdown",
   "metadata": {},
   "source": [
    "#### Using `pivot_table`"
   ]
  },
  {
   "cell_type": "code",
   "execution_count": 21,
   "metadata": {},
   "outputs": [
    {
     "name": "stdout",
     "output_type": "stream",
     "text": [
      "Sorted by Women's Athletic Footwear Units Sold\n",
      "     retailer    region          state          city  Women's Athletic Footwear Units Sold\n",
      "    West Gear      West     California San Francisco                                 12107\n",
      "  Foot Locker Northeast       New York      New York                                 10996\n",
      "       Kohl's      West     California   Los Angeles                                 10826\n",
      "  Foot Locker Southeast South Carolina    Charleston                                  8814\n",
      "Sports Direct     South          Texas        Dallas                                  8790\n"
     ]
    }
   ],
   "source": [
    "# Show the total number of women's athletic footwear sold for each retailer, region, state, and city.\n",
    "# Rename the \"units_sold\" column to \"Womens_Footwear_Units_Sold\"\n",
    "product_unit_sold = str(products[idx])+' Units Sold'\n",
    "pt_rsc_df = as_wfw_df.pivot_table(index=['retailer','region','state','city'],\n",
    "                                    values='units_sold',\n",
    "                                    aggfunc='sum').reset_index().rename(columns={'units_sold':product_unit_sold})\n",
    "# print(f\"\\n{pt_rsc_df.head(5).to_string(index=False)}\\n\")\n",
    "# Show the top 5 results.\n",
    "print(f\"Sorted by {product_unit_sold}\\n{pt_rsc_df.sort_values(by=[product_unit_sold], ascending=False, ignore_index=(True)).head(5).to_string(index=False)}\")"
   ]
  },
  {
   "cell_type": "markdown",
   "metadata": {},
   "source": [
    "### 5. Determine the Day with the Most Women's Athletic Footwear Sales"
   ]
  },
  {
   "cell_type": "code",
   "execution_count": 22,
   "metadata": {},
   "outputs": [
    {
     "data": {
      "text/html": [
       "<div>\n",
       "<style scoped>\n",
       "    .dataframe tbody tr th:only-of-type {\n",
       "        vertical-align: middle;\n",
       "    }\n",
       "\n",
       "    .dataframe tbody tr th {\n",
       "        vertical-align: top;\n",
       "    }\n",
       "\n",
       "    .dataframe thead th {\n",
       "        text-align: right;\n",
       "    }\n",
       "</style>\n",
       "<table border=\"1\" class=\"dataframe\">\n",
       "  <thead>\n",
       "    <tr style=\"text-align: right;\">\n",
       "      <th></th>\n",
       "      <th>Total Sales</th>\n",
       "    </tr>\n",
       "    <tr>\n",
       "      <th>invoice_date</th>\n",
       "      <th></th>\n",
       "    </tr>\n",
       "  </thead>\n",
       "  <tbody>\n",
       "    <tr>\n",
       "      <th>2020-01-04</th>\n",
       "      <td>402743</td>\n",
       "    </tr>\n",
       "    <tr>\n",
       "      <th>2020-01-05</th>\n",
       "      <td>141801</td>\n",
       "    </tr>\n",
       "    <tr>\n",
       "      <th>2020-01-11</th>\n",
       "      <td>129556</td>\n",
       "    </tr>\n",
       "    <tr>\n",
       "      <th>2020-01-17</th>\n",
       "      <td>173013</td>\n",
       "    </tr>\n",
       "    <tr>\n",
       "      <th>2020-01-22</th>\n",
       "      <td>388250</td>\n",
       "    </tr>\n",
       "  </tbody>\n",
       "</table>\n",
       "</div>"
      ],
      "text/plain": [
       "              Total Sales\n",
       "invoice_date             \n",
       "2020-01-04         402743\n",
       "2020-01-05         141801\n",
       "2020-01-11         129556\n",
       "2020-01-17         173013\n",
       "2020-01-22         388250"
      ]
     },
     "execution_count": 22,
     "metadata": {},
     "output_type": "execute_result"
    }
   ],
   "source": [
    "# Create a pivot table with the 'invoice_date' column is the index, and the \"total_sales\" as the values.\n",
    "pt_wfw_sales_df = as_wfw_df.pivot_table(index='invoice_date',\n",
    "                                    values='total_sales',\n",
    "                                    aggfunc='sum')\\\n",
    "                                    .rename(columns={'total_sales':'Total Sales'})\n",
    "# Show the table.\n",
    "pt_wfw_sales_df.head(5)"
   ]
  },
  {
   "cell_type": "code",
   "execution_count": 23,
   "metadata": {},
   "outputs": [
    {
     "name": "stdout",
     "output_type": "stream",
     "text": [
      "The day with the Most Women's Athletic Footwear Sales is \n",
      "2021-07-16 with sales of 1521825\n"
     ]
    }
   ],
   "source": [
    "# Resample the pivot table into daily bins, and get the total sales for each day.\n",
    "bin_daily_sum = pt_wfw_sales_df.resample('D').sum()\n",
    "# Sort the resampled pivot table in ascending order on \"Total Sales\".\n",
    "daily_high_wafs = bin_daily_sum.sort_values(by=['Total Sales'] , ascending=False).reset_index()\n",
    "print   (f\"The day with the Most {products[idx]} Sales is \\n{daily_high_wafs.iloc[0,0].strftime('%Y-%m-%d')} with sales of {daily_high_wafs.iloc[0,1]}\")"
   ]
  },
  {
   "cell_type": "markdown",
   "metadata": {},
   "source": [
    "### 6.  Determine the Week with the Most Women's Athletic Footwear Sales"
   ]
  },
  {
   "cell_type": "code",
   "execution_count": 24,
   "metadata": {},
   "outputs": [
    {
     "name": "stdout",
     "output_type": "stream",
     "text": [
      "The week with the Most Women's Athletic Footwear Sales is \n",
      "week 50 of 2021 with sales of 3098970\n"
     ]
    }
   ],
   "source": [
    "# Resample the pivot table into weekly bins, and get the total sales for each week.\n",
    "bin_weekly_sum = pt_wfw_sales_df.resample('1W').sum()\n",
    "\n",
    "# Sort the resampled pivot table in ascending order on \"Total Sales\".\n",
    "weekly_high_wafs = bin_weekly_sum.sort_values(by=['Total Sales'] , ascending=False).reset_index()\n",
    "                \n",
    "print (f\"The week with the Most {products[idx]} Sales is \\nweek {weekly_high_wafs.iloc[0, 0].week} of {weekly_high_wafs.iloc[0, 0].year} with sales of {weekly_high_wafs.iloc[0, 1]}\")"
   ]
  }
 ],
 "metadata": {
  "kernelspec": {
   "display_name": "dev",
   "language": "python",
   "name": "dev"
  },
  "language_info": {
   "codemirror_mode": {
    "name": "ipython",
    "version": 3
   },
   "file_extension": ".py",
   "mimetype": "text/x-python",
   "name": "python",
   "nbconvert_exporter": "python",
   "pygments_lexer": "ipython3",
   "version": "3.10.13"
  },
  "widgets": {
   "application/vnd.jupyter.widget-state+json": {
    "state": {},
    "version_major": 2,
    "version_minor": 0
   }
  }
 },
 "nbformat": 4,
 "nbformat_minor": 4
}
